{
 "cells": [
  {
   "cell_type": "markdown",
   "id": "268e4b29",
   "metadata": {},
   "source": [
    "##### Given a list of numbers, use list comprehension to create a list of their squares.\n"
   ]
  },
  {
   "cell_type": "markdown",
   "id": "f358d3c2",
   "metadata": {},
   "source": []
  }
 ],
 "metadata": {
  "language_info": {
   "name": "python"
  }
 },
 "nbformat": 4,
 "nbformat_minor": 5
}
