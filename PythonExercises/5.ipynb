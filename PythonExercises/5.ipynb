{
 "cells": [
  {
   "cell_type": "markdown",
   "id": "0ea78bbd",
   "metadata": {},
   "source": [
    "#### 5. Create a DataFrame of products with columns: Product Name, Price, Category.\n",
    " Add a new column - Discounted Price = 90% of Price.\n",
    " Filter and show products cheaper than 500."
   ]
  },
  {
   "cell_type": "markdown",
   "id": "7266ffa9",
   "metadata": {},
   "source": []
  },
  {
   "cell_type": "code",
   "execution_count": 2,
   "id": "453185b9",
   "metadata": {},
   "outputs": [],
   "source": [
    "import pandas as pd"
   ]
  },
  {
   "cell_type": "code",
   "execution_count": 11,
   "id": "5c0d0664",
   "metadata": {},
   "outputs": [],
   "source": [
    "data = {\n",
    "    \"Product Name\": [\"Laptop\", \"Headphones\", \"Keyboard\", \"Mouse\", \"Monitor\",\"Earphones\"],\n",
    "    \"Price\": [68999, 3700, 1499, 399, 7999,149],\n",
    "    \"Category\": [\"Electronics\", \"Accessories\", \"Accessories\", \"Accessories\", \"Electronics\", \"Accessories\"]\n",
    "}\n",
    "\n",
    "df = pd.DataFrame(data)"
   ]
  },
  {
   "cell_type": "code",
   "execution_count": 12,
   "id": "0db04161",
   "metadata": {},
   "outputs": [
    {
     "data": {
      "text/html": [
       "<div>\n",
       "<style scoped>\n",
       "    .dataframe tbody tr th:only-of-type {\n",
       "        vertical-align: middle;\n",
       "    }\n",
       "\n",
       "    .dataframe tbody tr th {\n",
       "        vertical-align: top;\n",
       "    }\n",
       "\n",
       "    .dataframe thead th {\n",
       "        text-align: right;\n",
       "    }\n",
       "</style>\n",
       "<table border=\"1\" class=\"dataframe\">\n",
       "  <thead>\n",
       "    <tr style=\"text-align: right;\">\n",
       "      <th></th>\n",
       "      <th>Product Name</th>\n",
       "      <th>Price</th>\n",
       "      <th>Category</th>\n",
       "    </tr>\n",
       "  </thead>\n",
       "  <tbody>\n",
       "    <tr>\n",
       "      <th>0</th>\n",
       "      <td>Laptop</td>\n",
       "      <td>68999</td>\n",
       "      <td>Electronics</td>\n",
       "    </tr>\n",
       "    <tr>\n",
       "      <th>1</th>\n",
       "      <td>Headphones</td>\n",
       "      <td>3700</td>\n",
       "      <td>Accessories</td>\n",
       "    </tr>\n",
       "    <tr>\n",
       "      <th>2</th>\n",
       "      <td>Keyboard</td>\n",
       "      <td>1499</td>\n",
       "      <td>Accessories</td>\n",
       "    </tr>\n",
       "    <tr>\n",
       "      <th>3</th>\n",
       "      <td>Mouse</td>\n",
       "      <td>399</td>\n",
       "      <td>Accessories</td>\n",
       "    </tr>\n",
       "    <tr>\n",
       "      <th>4</th>\n",
       "      <td>Monitor</td>\n",
       "      <td>7999</td>\n",
       "      <td>Electronics</td>\n",
       "    </tr>\n",
       "    <tr>\n",
       "      <th>5</th>\n",
       "      <td>Earphones</td>\n",
       "      <td>149</td>\n",
       "      <td>Accessories</td>\n",
       "    </tr>\n",
       "  </tbody>\n",
       "</table>\n",
       "</div>"
      ],
      "text/plain": [
       "  Product Name  Price     Category\n",
       "0       Laptop  68999  Electronics\n",
       "1   Headphones   3700  Accessories\n",
       "2     Keyboard   1499  Accessories\n",
       "3        Mouse    399  Accessories\n",
       "4      Monitor   7999  Electronics\n",
       "5    Earphones    149  Accessories"
      ]
     },
     "execution_count": 12,
     "metadata": {},
     "output_type": "execute_result"
    }
   ],
   "source": [
    "df"
   ]
  },
  {
   "cell_type": "code",
   "execution_count": 13,
   "id": "1dd64858",
   "metadata": {},
   "outputs": [],
   "source": [
    "df[\"Discounted Price\"] = df[\"Price\"] * 0.9"
   ]
  },
  {
   "cell_type": "code",
   "execution_count": 14,
   "id": "a5631dc0",
   "metadata": {},
   "outputs": [
    {
     "data": {
      "text/html": [
       "<div>\n",
       "<style scoped>\n",
       "    .dataframe tbody tr th:only-of-type {\n",
       "        vertical-align: middle;\n",
       "    }\n",
       "\n",
       "    .dataframe tbody tr th {\n",
       "        vertical-align: top;\n",
       "    }\n",
       "\n",
       "    .dataframe thead th {\n",
       "        text-align: right;\n",
       "    }\n",
       "</style>\n",
       "<table border=\"1\" class=\"dataframe\">\n",
       "  <thead>\n",
       "    <tr style=\"text-align: right;\">\n",
       "      <th></th>\n",
       "      <th>Product Name</th>\n",
       "      <th>Price</th>\n",
       "      <th>Category</th>\n",
       "      <th>Discounted Price</th>\n",
       "    </tr>\n",
       "  </thead>\n",
       "  <tbody>\n",
       "    <tr>\n",
       "      <th>0</th>\n",
       "      <td>Laptop</td>\n",
       "      <td>68999</td>\n",
       "      <td>Electronics</td>\n",
       "      <td>62099.1</td>\n",
       "    </tr>\n",
       "    <tr>\n",
       "      <th>1</th>\n",
       "      <td>Headphones</td>\n",
       "      <td>3700</td>\n",
       "      <td>Accessories</td>\n",
       "      <td>3330.0</td>\n",
       "    </tr>\n",
       "    <tr>\n",
       "      <th>2</th>\n",
       "      <td>Keyboard</td>\n",
       "      <td>1499</td>\n",
       "      <td>Accessories</td>\n",
       "      <td>1349.1</td>\n",
       "    </tr>\n",
       "    <tr>\n",
       "      <th>3</th>\n",
       "      <td>Mouse</td>\n",
       "      <td>399</td>\n",
       "      <td>Accessories</td>\n",
       "      <td>359.1</td>\n",
       "    </tr>\n",
       "    <tr>\n",
       "      <th>4</th>\n",
       "      <td>Monitor</td>\n",
       "      <td>7999</td>\n",
       "      <td>Electronics</td>\n",
       "      <td>7199.1</td>\n",
       "    </tr>\n",
       "    <tr>\n",
       "      <th>5</th>\n",
       "      <td>Earphones</td>\n",
       "      <td>149</td>\n",
       "      <td>Accessories</td>\n",
       "      <td>134.1</td>\n",
       "    </tr>\n",
       "  </tbody>\n",
       "</table>\n",
       "</div>"
      ],
      "text/plain": [
       "  Product Name  Price     Category  Discounted Price\n",
       "0       Laptop  68999  Electronics           62099.1\n",
       "1   Headphones   3700  Accessories            3330.0\n",
       "2     Keyboard   1499  Accessories            1349.1\n",
       "3        Mouse    399  Accessories             359.1\n",
       "4      Monitor   7999  Electronics            7199.1\n",
       "5    Earphones    149  Accessories             134.1"
      ]
     },
     "execution_count": 14,
     "metadata": {},
     "output_type": "execute_result"
    }
   ],
   "source": [
    "df"
   ]
  },
  {
   "cell_type": "code",
   "execution_count": 15,
   "id": "fbfce4c8",
   "metadata": {},
   "outputs": [],
   "source": [
    "cheap_products = df[df[\"Price\"] < 500]"
   ]
  },
  {
   "cell_type": "code",
   "execution_count": 17,
   "id": "15bdc58e",
   "metadata": {},
   "outputs": [
    {
     "name": "stdout",
     "output_type": "stream",
     "text": [
      "Cheap product which are less than 500\n",
      "   Product Name  Price     Category  Discounted Price\n",
      "3        Mouse    399  Accessories             359.1\n",
      "5    Earphones    149  Accessories             134.1\n"
     ]
    }
   ],
   "source": [
    "print(\"Cheap product which are less than 500\\n\", cheap_products)"
   ]
  }
 ],
 "metadata": {
  "kernelspec": {
   "display_name": "venv",
   "language": "python",
   "name": "python3"
  },
  "language_info": {
   "codemirror_mode": {
    "name": "ipython",
    "version": 3
   },
   "file_extension": ".py",
   "mimetype": "text/x-python",
   "name": "python",
   "nbconvert_exporter": "python",
   "pygments_lexer": "ipython3",
   "version": "3.13.3"
  }
 },
 "nbformat": 4,
 "nbformat_minor": 5
}
