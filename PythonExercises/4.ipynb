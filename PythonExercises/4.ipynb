{
 "cells": [
  {
   "cell_type": "markdown",
   "id": "56a08bbc",
   "metadata": {},
   "source": [
    "#### 4. Create a 5x5 array with random integers between 1 and 100."
   ]
  },
  {
   "cell_type": "code",
   "execution_count": 1,
   "id": "1fd6af27",
   "metadata": {},
   "outputs": [],
   "source": [
    "import numpy as np"
   ]
  },
  {
   "cell_type": "code",
   "execution_count": 2,
   "id": "e46792e9",
   "metadata": {},
   "outputs": [
    {
     "name": "stdout",
     "output_type": "stream",
     "text": [
      "[[ 52  65 100  15  34]\n",
      " [  1  43  82  32  19]\n",
      " [ 12  91  66  15  86]\n",
      " [ 86  35  52   8  88]\n",
      " [ 86 100  39  41  88]]\n"
     ]
    }
   ],
   "source": [
    "\n",
    "arr = np.random.randint(1, 101, size=(5, 5))\n",
    "\n",
    "print(arr)"
   ]
  },
  {
   "cell_type": "code",
   "execution_count": null,
   "id": "083fe63a",
   "metadata": {},
   "outputs": [],
   "source": []
  }
 ],
 "metadata": {
  "kernelspec": {
   "display_name": "venv",
   "language": "python",
   "name": "python3"
  },
  "language_info": {
   "codemirror_mode": {
    "name": "ipython",
    "version": 3
   },
   "file_extension": ".py",
   "mimetype": "text/x-python",
   "name": "python",
   "nbconvert_exporter": "python",
   "pygments_lexer": "ipython3",
   "version": "3.13.3"
  }
 },
 "nbformat": 4,
 "nbformat_minor": 5
}
