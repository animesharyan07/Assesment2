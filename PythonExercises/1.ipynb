{
 "cells": [
  {
   "cell_type": "markdown",
   "id": "96371c26",
   "metadata": {},
   "source": [
    "##### Write a Python function to check if a string is a palindrome. (String from user input)"
   ]
  },
  {
   "cell_type": "code",
   "execution_count": 2,
   "id": "e825abfa",
   "metadata": {},
   "outputs": [],
   "source": [
    "def palindrome():\n",
    "\n",
    "    st=input(\"Enter the string\")\n",
    "    i=0\n",
    "    j=len(st)-1\n",
    "    if(check_palindrome(st,i,j)):\n",
    "        print(f\"The string {st} is palindrome\")\n",
    "    else:\n",
    "        print(f\"The string {st} is not a palindrome\")\n",
    "\n",
    "\n",
    "def check_palindrome(s,i,j)->bool:\n",
    "    if(i>=j):\n",
    "        return True\n",
    "    \n",
    "    if(s[i]!=s[j]):\n",
    "        return False\n",
    "    \n",
    "    return check_palindrome(s,i+1,j-1)\n",
    "    \n"
   ]
  },
  {
   "cell_type": "code",
   "execution_count": null,
   "id": "d45626f0",
   "metadata": {},
   "outputs": [
    {
     "name": "stdout",
     "output_type": "stream",
     "text": [
      "The string BGA is not a palindrome\n"
     ]
    }
   ],
   "source": [
    "palindrome()"
   ]
  },
  {
   "cell_type": "code",
   "execution_count": null,
   "id": "9d824b3f",
   "metadata": {},
   "outputs": [],
   "source": []
  }
 ],
 "metadata": {
  "kernelspec": {
   "display_name": "venv",
   "language": "python",
   "name": "python3"
  },
  "language_info": {
   "codemirror_mode": {
    "name": "ipython",
    "version": 3
   },
   "file_extension": ".py",
   "mimetype": "text/x-python",
   "name": "python",
   "nbconvert_exporter": "python",
   "pygments_lexer": "ipython3",
   "version": "3.13.3"
  }
 },
 "nbformat": 4,
 "nbformat_minor": 5
}
