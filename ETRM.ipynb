{
 "cells": [
  {
   "cell_type": "markdown",
   "id": "cb6909ea",
   "metadata": {},
   "source": [
    "#### Assessment – ETRM Data Analysis with Pandas & Visualization \n",
    "#### Objective \n",
    "#### To practice data ingestion, transformation, and visualization using Pandas and Python plotting libraries (Matplotlib/Seaborn/Plotly). \n"
   ]
  },
  {
   "cell_type": "code",
   "execution_count": 2,
   "id": "8da4293d",
   "metadata": {},
   "outputs": [],
   "source": [
    "import pandas as pd\n",
    "import numpy as np\n",
    "import matplotlib.pyplot as plt\n",
    "import seaborn as sns\n"
   ]
  },
  {
   "cell_type": "code",
   "execution_count": 10,
   "id": "6f922c5c",
   "metadata": {},
   "outputs": [],
   "source": [
    "df_csv=pd.read_csv('datasets/etrm_trades.csv')\n",
    "df_html=pd.read_html('datasets/etrm_trades.html')[0]\n",
    "df_json=pd.read_json('datasets/etrm_trades.json')\n",
    "df_excel=pd.read_excel('datasets/etrm_trades.xlsx')\n",
    "df_xml=pd.read_xml('datasets/etrm_trades.xml')\n",
    "df_txt = pd.read_csv(\"datasets/etrm_trades.txt\", delimiter=\"\\t\")\n"
   ]
  },
  {
   "cell_type": "code",
   "execution_count": 7,
   "id": "bc4530d7",
   "metadata": {},
   "outputs": [
    {
     "data": {
      "text/plain": [
       "TradeID            int64\n",
       "Commodity         object\n",
       "TradeType         object\n",
       "Volume           float64\n",
       "Price            float64\n",
       "Currency          object\n",
       "DeliveryStart     object\n",
       "DeliveryEnd       object\n",
       "Periodicity       object\n",
       "dtype: object"
      ]
     },
     "execution_count": 7,
     "metadata": {},
     "output_type": "execute_result"
    }
   ],
   "source": [
    "df_csv.dtypes"
   ]
  },
  {
   "cell_type": "code",
   "execution_count": 11,
   "id": "534fd9d7",
   "metadata": {},
   "outputs": [
    {
     "name": "stdout",
     "output_type": "stream",
     "text": [
      "TradeID            int64\n",
      "Commodity         object\n",
      "TradeType         object\n",
      "Volume           float64\n",
      "Price            float64\n",
      "Currency          object\n",
      "DeliveryStart     object\n",
      "DeliveryEnd       object\n",
      "Periodicity       object\n",
      "dtype: object\n"
     ]
    }
   ],
   "source": [
    "print(df_html.dtypes)\n"
   ]
  },
  {
   "cell_type": "code",
   "execution_count": 12,
   "id": "b3a1e6ea",
   "metadata": {},
   "outputs": [
    {
     "data": {
      "text/plain": [
       "TradeID            int64\n",
       "Commodity         object\n",
       "TradeType         object\n",
       "Volume           float64\n",
       "Price            float64\n",
       "Currency          object\n",
       "DeliveryStart     object\n",
       "DeliveryEnd       object\n",
       "Periodicity       object\n",
       "dtype: object"
      ]
     },
     "execution_count": 12,
     "metadata": {},
     "output_type": "execute_result"
    }
   ],
   "source": [
    "df_json.dtypes"
   ]
  },
  {
   "cell_type": "code",
   "execution_count": 14,
   "id": "1d33c089",
   "metadata": {},
   "outputs": [
    {
     "data": {
      "text/plain": [
       "TradeID            int64\n",
       "Commodity         object\n",
       "TradeType         object\n",
       "Volume           float64\n",
       "Price            float64\n",
       "Currency          object\n",
       "DeliveryStart     object\n",
       "DeliveryEnd       object\n",
       "Periodicity       object\n",
       "dtype: object"
      ]
     },
     "execution_count": 14,
     "metadata": {},
     "output_type": "execute_result"
    }
   ],
   "source": [
    "df_excel.dtypes\n"
   ]
  },
  {
   "cell_type": "code",
   "execution_count": 15,
   "id": "71683bdb",
   "metadata": {},
   "outputs": [
    {
     "data": {
      "text/plain": [
       "TradeID            int64\n",
       "Commodity         object\n",
       "TradeType         object\n",
       "Volume           float64\n",
       "Price            float64\n",
       "Currency          object\n",
       "DeliveryStart     object\n",
       "DeliveryEnd       object\n",
       "Periodicity       object\n",
       "dtype: object"
      ]
     },
     "execution_count": 15,
     "metadata": {},
     "output_type": "execute_result"
    }
   ],
   "source": [
    "df_xml.dtypes\n"
   ]
  },
  {
   "cell_type": "code",
   "execution_count": 16,
   "id": "1c9c55c9",
   "metadata": {},
   "outputs": [
    {
     "data": {
      "text/plain": [
       "TradeID|Commodity|TradeType|Volume|Price|Currency|DeliveryStart|DeliveryEnd|Periodicity    object\n",
       "dtype: object"
      ]
     },
     "execution_count": 16,
     "metadata": {},
     "output_type": "execute_result"
    }
   ],
   "source": [
    "df_txt.dtypes"
   ]
  },
  {
   "cell_type": "markdown",
   "id": "d14d1a80",
   "metadata": {},
   "source": [
    "### Data Cleaning and Preprocessing"
   ]
  },
  {
   "cell_type": "code",
   "execution_count": 17,
   "id": "b5293a9d",
   "metadata": {},
   "outputs": [
    {
     "data": {
      "text/plain": [
       "(100, 9)"
      ]
     },
     "execution_count": 17,
     "metadata": {},
     "output_type": "execute_result"
    }
   ],
   "source": [
    "df_csv.shape"
   ]
  },
  {
   "cell_type": "code",
   "execution_count": 18,
   "id": "89658d21",
   "metadata": {},
   "outputs": [
    {
     "data": {
      "text/html": [
       "<div>\n",
       "<style scoped>\n",
       "    .dataframe tbody tr th:only-of-type {\n",
       "        vertical-align: middle;\n",
       "    }\n",
       "\n",
       "    .dataframe tbody tr th {\n",
       "        vertical-align: top;\n",
       "    }\n",
       "\n",
       "    .dataframe thead th {\n",
       "        text-align: right;\n",
       "    }\n",
       "</style>\n",
       "<table border=\"1\" class=\"dataframe\">\n",
       "  <thead>\n",
       "    <tr style=\"text-align: right;\">\n",
       "      <th></th>\n",
       "      <th>TradeID</th>\n",
       "      <th>Commodity</th>\n",
       "      <th>TradeType</th>\n",
       "      <th>Volume</th>\n",
       "      <th>Price</th>\n",
       "      <th>Currency</th>\n",
       "      <th>DeliveryStart</th>\n",
       "      <th>DeliveryEnd</th>\n",
       "      <th>Periodicity</th>\n",
       "    </tr>\n",
       "  </thead>\n",
       "  <tbody>\n",
       "    <tr>\n",
       "      <th>0</th>\n",
       "      <td>1</td>\n",
       "      <td>Power</td>\n",
       "      <td>BUY</td>\n",
       "      <td>193.52</td>\n",
       "      <td>191.13</td>\n",
       "      <td>GBP</td>\n",
       "      <td>2025-01-08</td>\n",
       "      <td>2025-01-16</td>\n",
       "      <td>Monthly</td>\n",
       "    </tr>\n",
       "    <tr>\n",
       "      <th>1</th>\n",
       "      <td>2</td>\n",
       "      <td>Gas</td>\n",
       "      <td>BUY</td>\n",
       "      <td>368.68</td>\n",
       "      <td>127.76</td>\n",
       "      <td>GBP</td>\n",
       "      <td>2025-01-29</td>\n",
       "      <td>2025-02-16</td>\n",
       "      <td>Quarterly</td>\n",
       "    </tr>\n",
       "    <tr>\n",
       "      <th>2</th>\n",
       "      <td>3</td>\n",
       "      <td>Power</td>\n",
       "      <td>SELL</td>\n",
       "      <td>86.45</td>\n",
       "      <td>48.08</td>\n",
       "      <td>USD</td>\n",
       "      <td>2025-01-03</td>\n",
       "      <td>2025-01-10</td>\n",
       "      <td>Daily</td>\n",
       "    </tr>\n",
       "    <tr>\n",
       "      <th>3</th>\n",
       "      <td>4</td>\n",
       "      <td>Gas</td>\n",
       "      <td>BUY</td>\n",
       "      <td>38.46</td>\n",
       "      <td>175.91</td>\n",
       "      <td>GBP</td>\n",
       "      <td>2025-01-23</td>\n",
       "      <td>2025-02-13</td>\n",
       "      <td>Daily</td>\n",
       "    </tr>\n",
       "    <tr>\n",
       "      <th>4</th>\n",
       "      <td>5</td>\n",
       "      <td>Coal</td>\n",
       "      <td>BUY</td>\n",
       "      <td>304.55</td>\n",
       "      <td>147.45</td>\n",
       "      <td>EUR</td>\n",
       "      <td>2025-01-09</td>\n",
       "      <td>2025-02-04</td>\n",
       "      <td>Quarterly</td>\n",
       "    </tr>\n",
       "  </tbody>\n",
       "</table>\n",
       "</div>"
      ],
      "text/plain": [
       "   TradeID Commodity TradeType  Volume   Price Currency DeliveryStart  \\\n",
       "0        1     Power       BUY  193.52  191.13      GBP    2025-01-08   \n",
       "1        2       Gas       BUY  368.68  127.76      GBP    2025-01-29   \n",
       "2        3     Power      SELL   86.45   48.08      USD    2025-01-03   \n",
       "3        4       Gas       BUY   38.46  175.91      GBP    2025-01-23   \n",
       "4        5      Coal       BUY  304.55  147.45      EUR    2025-01-09   \n",
       "\n",
       "  DeliveryEnd Periodicity  \n",
       "0  2025-01-16     Monthly  \n",
       "1  2025-02-16   Quarterly  \n",
       "2  2025-01-10       Daily  \n",
       "3  2025-02-13       Daily  \n",
       "4  2025-02-04   Quarterly  "
      ]
     },
     "execution_count": 18,
     "metadata": {},
     "output_type": "execute_result"
    }
   ],
   "source": [
    "df_csv.head()"
   ]
  },
  {
   "cell_type": "code",
   "execution_count": 19,
   "id": "1cac1f25",
   "metadata": {},
   "outputs": [
    {
     "data": {
      "text/html": [
       "<div>\n",
       "<style scoped>\n",
       "    .dataframe tbody tr th:only-of-type {\n",
       "        vertical-align: middle;\n",
       "    }\n",
       "\n",
       "    .dataframe tbody tr th {\n",
       "        vertical-align: top;\n",
       "    }\n",
       "\n",
       "    .dataframe thead th {\n",
       "        text-align: right;\n",
       "    }\n",
       "</style>\n",
       "<table border=\"1\" class=\"dataframe\">\n",
       "  <thead>\n",
       "    <tr style=\"text-align: right;\">\n",
       "      <th></th>\n",
       "      <th>TradeID</th>\n",
       "      <th>Commodity</th>\n",
       "      <th>TradeType</th>\n",
       "      <th>Volume</th>\n",
       "      <th>Price</th>\n",
       "      <th>Currency</th>\n",
       "      <th>DeliveryStart</th>\n",
       "      <th>DeliveryEnd</th>\n",
       "      <th>Periodicity</th>\n",
       "    </tr>\n",
       "  </thead>\n",
       "  <tbody>\n",
       "    <tr>\n",
       "      <th>95</th>\n",
       "      <td>96</td>\n",
       "      <td>Coal</td>\n",
       "      <td>SELL</td>\n",
       "      <td>55.62</td>\n",
       "      <td>181.50</td>\n",
       "      <td>EUR</td>\n",
       "      <td>2025-01-05</td>\n",
       "      <td>2025-01-26</td>\n",
       "      <td>Daily</td>\n",
       "    </tr>\n",
       "    <tr>\n",
       "      <th>96</th>\n",
       "      <td>97</td>\n",
       "      <td>Power</td>\n",
       "      <td>BUY</td>\n",
       "      <td>451.20</td>\n",
       "      <td>133.96</td>\n",
       "      <td>EUR</td>\n",
       "      <td>2025-01-06</td>\n",
       "      <td>2025-02-01</td>\n",
       "      <td>Daily</td>\n",
       "    </tr>\n",
       "    <tr>\n",
       "      <th>97</th>\n",
       "      <td>98</td>\n",
       "      <td>Coal</td>\n",
       "      <td>BUY</td>\n",
       "      <td>176.12</td>\n",
       "      <td>82.86</td>\n",
       "      <td>GBP</td>\n",
       "      <td>2025-01-30</td>\n",
       "      <td>2025-02-27</td>\n",
       "      <td>Daily</td>\n",
       "    </tr>\n",
       "    <tr>\n",
       "      <th>98</th>\n",
       "      <td>99</td>\n",
       "      <td>Power</td>\n",
       "      <td>SELL</td>\n",
       "      <td>365.72</td>\n",
       "      <td>181.48</td>\n",
       "      <td>USD</td>\n",
       "      <td>2025-01-22</td>\n",
       "      <td>2025-02-08</td>\n",
       "      <td>Monthly</td>\n",
       "    </tr>\n",
       "    <tr>\n",
       "      <th>99</th>\n",
       "      <td>100</td>\n",
       "      <td>Oil</td>\n",
       "      <td>SELL</td>\n",
       "      <td>444.67</td>\n",
       "      <td>160.38</td>\n",
       "      <td>GBP</td>\n",
       "      <td>2025-01-29</td>\n",
       "      <td>2025-02-15</td>\n",
       "      <td>Quarterly</td>\n",
       "    </tr>\n",
       "  </tbody>\n",
       "</table>\n",
       "</div>"
      ],
      "text/plain": [
       "    TradeID Commodity TradeType  Volume   Price Currency DeliveryStart  \\\n",
       "95       96      Coal      SELL   55.62  181.50      EUR    2025-01-05   \n",
       "96       97     Power       BUY  451.20  133.96      EUR    2025-01-06   \n",
       "97       98      Coal       BUY  176.12   82.86      GBP    2025-01-30   \n",
       "98       99     Power      SELL  365.72  181.48      USD    2025-01-22   \n",
       "99      100       Oil      SELL  444.67  160.38      GBP    2025-01-29   \n",
       "\n",
       "   DeliveryEnd Periodicity  \n",
       "95  2025-01-26       Daily  \n",
       "96  2025-02-01       Daily  \n",
       "97  2025-02-27       Daily  \n",
       "98  2025-02-08     Monthly  \n",
       "99  2025-02-15   Quarterly  "
      ]
     },
     "execution_count": 19,
     "metadata": {},
     "output_type": "execute_result"
    }
   ],
   "source": [
    "df_csv.tail()"
   ]
  },
  {
   "cell_type": "code",
   "execution_count": 20,
   "id": "5f3eb10f",
   "metadata": {},
   "outputs": [
    {
     "data": {
      "text/html": [
       "<div>\n",
       "<style scoped>\n",
       "    .dataframe tbody tr th:only-of-type {\n",
       "        vertical-align: middle;\n",
       "    }\n",
       "\n",
       "    .dataframe tbody tr th {\n",
       "        vertical-align: top;\n",
       "    }\n",
       "\n",
       "    .dataframe thead th {\n",
       "        text-align: right;\n",
       "    }\n",
       "</style>\n",
       "<table border=\"1\" class=\"dataframe\">\n",
       "  <thead>\n",
       "    <tr style=\"text-align: right;\">\n",
       "      <th></th>\n",
       "      <th>TradeID</th>\n",
       "      <th>Commodity</th>\n",
       "      <th>TradeType</th>\n",
       "      <th>Volume</th>\n",
       "      <th>Price</th>\n",
       "      <th>Currency</th>\n",
       "      <th>DeliveryStart</th>\n",
       "      <th>DeliveryEnd</th>\n",
       "      <th>Periodicity</th>\n",
       "    </tr>\n",
       "  </thead>\n",
       "  <tbody>\n",
       "    <tr>\n",
       "      <th>3</th>\n",
       "      <td>4</td>\n",
       "      <td>Gas</td>\n",
       "      <td>BUY</td>\n",
       "      <td>38.46</td>\n",
       "      <td>175.91</td>\n",
       "      <td>GBP</td>\n",
       "      <td>2025-01-23</td>\n",
       "      <td>2025-02-13</td>\n",
       "      <td>Daily</td>\n",
       "    </tr>\n",
       "    <tr>\n",
       "      <th>46</th>\n",
       "      <td>47</td>\n",
       "      <td>Power</td>\n",
       "      <td>SELL</td>\n",
       "      <td>382.78</td>\n",
       "      <td>121.03</td>\n",
       "      <td>GBP</td>\n",
       "      <td>2025-01-02</td>\n",
       "      <td>2025-01-23</td>\n",
       "      <td>Daily</td>\n",
       "    </tr>\n",
       "    <tr>\n",
       "      <th>57</th>\n",
       "      <td>58</td>\n",
       "      <td>Oil</td>\n",
       "      <td>SELL</td>\n",
       "      <td>320.37</td>\n",
       "      <td>176.86</td>\n",
       "      <td>EUR</td>\n",
       "      <td>2025-01-01</td>\n",
       "      <td>2025-01-16</td>\n",
       "      <td>Daily</td>\n",
       "    </tr>\n",
       "    <tr>\n",
       "      <th>56</th>\n",
       "      <td>57</td>\n",
       "      <td>Gas</td>\n",
       "      <td>SELL</td>\n",
       "      <td>465.55</td>\n",
       "      <td>165.46</td>\n",
       "      <td>EUR</td>\n",
       "      <td>2025-01-22</td>\n",
       "      <td>2025-02-12</td>\n",
       "      <td>Daily</td>\n",
       "    </tr>\n",
       "    <tr>\n",
       "      <th>75</th>\n",
       "      <td>76</td>\n",
       "      <td>Coal</td>\n",
       "      <td>BUY</td>\n",
       "      <td>455.05</td>\n",
       "      <td>63.12</td>\n",
       "      <td>EUR</td>\n",
       "      <td>2025-01-26</td>\n",
       "      <td>2025-02-18</td>\n",
       "      <td>Daily</td>\n",
       "    </tr>\n",
       "    <tr>\n",
       "      <th>44</th>\n",
       "      <td>45</td>\n",
       "      <td>Power</td>\n",
       "      <td>BUY</td>\n",
       "      <td>444.73</td>\n",
       "      <td>105.00</td>\n",
       "      <td>USD</td>\n",
       "      <td>2025-01-18</td>\n",
       "      <td>2025-02-02</td>\n",
       "      <td>Daily</td>\n",
       "    </tr>\n",
       "    <tr>\n",
       "      <th>60</th>\n",
       "      <td>61</td>\n",
       "      <td>Gas</td>\n",
       "      <td>SELL</td>\n",
       "      <td>405.65</td>\n",
       "      <td>181.30</td>\n",
       "      <td>GBP</td>\n",
       "      <td>2025-01-10</td>\n",
       "      <td>2025-01-30</td>\n",
       "      <td>Quarterly</td>\n",
       "    </tr>\n",
       "    <tr>\n",
       "      <th>82</th>\n",
       "      <td>83</td>\n",
       "      <td>Oil</td>\n",
       "      <td>SELL</td>\n",
       "      <td>54.24</td>\n",
       "      <td>170.35</td>\n",
       "      <td>GBP</td>\n",
       "      <td>2025-01-04</td>\n",
       "      <td>2025-01-17</td>\n",
       "      <td>Quarterly</td>\n",
       "    </tr>\n",
       "    <tr>\n",
       "      <th>55</th>\n",
       "      <td>56</td>\n",
       "      <td>Oil</td>\n",
       "      <td>SELL</td>\n",
       "      <td>151.98</td>\n",
       "      <td>49.02</td>\n",
       "      <td>USD</td>\n",
       "      <td>2025-01-23</td>\n",
       "      <td>2025-02-03</td>\n",
       "      <td>Quarterly</td>\n",
       "    </tr>\n",
       "    <tr>\n",
       "      <th>67</th>\n",
       "      <td>68</td>\n",
       "      <td>Oil</td>\n",
       "      <td>BUY</td>\n",
       "      <td>472.03</td>\n",
       "      <td>78.18</td>\n",
       "      <td>GBP</td>\n",
       "      <td>2025-01-18</td>\n",
       "      <td>2025-02-10</td>\n",
       "      <td>Monthly</td>\n",
       "    </tr>\n",
       "  </tbody>\n",
       "</table>\n",
       "</div>"
      ],
      "text/plain": [
       "    TradeID Commodity TradeType  Volume   Price Currency DeliveryStart  \\\n",
       "3         4       Gas       BUY   38.46  175.91      GBP    2025-01-23   \n",
       "46       47     Power      SELL  382.78  121.03      GBP    2025-01-02   \n",
       "57       58       Oil      SELL  320.37  176.86      EUR    2025-01-01   \n",
       "56       57       Gas      SELL  465.55  165.46      EUR    2025-01-22   \n",
       "75       76      Coal       BUY  455.05   63.12      EUR    2025-01-26   \n",
       "44       45     Power       BUY  444.73  105.00      USD    2025-01-18   \n",
       "60       61       Gas      SELL  405.65  181.30      GBP    2025-01-10   \n",
       "82       83       Oil      SELL   54.24  170.35      GBP    2025-01-04   \n",
       "55       56       Oil      SELL  151.98   49.02      USD    2025-01-23   \n",
       "67       68       Oil       BUY  472.03   78.18      GBP    2025-01-18   \n",
       "\n",
       "   DeliveryEnd Periodicity  \n",
       "3   2025-02-13       Daily  \n",
       "46  2025-01-23       Daily  \n",
       "57  2025-01-16       Daily  \n",
       "56  2025-02-12       Daily  \n",
       "75  2025-02-18       Daily  \n",
       "44  2025-02-02       Daily  \n",
       "60  2025-01-30   Quarterly  \n",
       "82  2025-01-17   Quarterly  \n",
       "55  2025-02-03   Quarterly  \n",
       "67  2025-02-10     Monthly  "
      ]
     },
     "execution_count": 20,
     "metadata": {},
     "output_type": "execute_result"
    }
   ],
   "source": [
    "df_csv.sample(10)"
   ]
  },
  {
   "cell_type": "code",
   "execution_count": 21,
   "id": "958484a3",
   "metadata": {},
   "outputs": [
    {
     "name": "stdout",
     "output_type": "stream",
     "text": [
      "<class 'pandas.core.frame.DataFrame'>\n",
      "RangeIndex: 100 entries, 0 to 99\n",
      "Data columns (total 9 columns):\n",
      " #   Column         Non-Null Count  Dtype  \n",
      "---  ------         --------------  -----  \n",
      " 0   TradeID        100 non-null    int64  \n",
      " 1   Commodity      100 non-null    object \n",
      " 2   TradeType      100 non-null    object \n",
      " 3   Volume         100 non-null    float64\n",
      " 4   Price          100 non-null    float64\n",
      " 5   Currency       100 non-null    object \n",
      " 6   DeliveryStart  100 non-null    object \n",
      " 7   DeliveryEnd    100 non-null    object \n",
      " 8   Periodicity    100 non-null    object \n",
      "dtypes: float64(2), int64(1), object(6)\n",
      "memory usage: 7.2+ KB\n"
     ]
    }
   ],
   "source": [
    "df_csv.info()"
   ]
  },
  {
   "cell_type": "code",
   "execution_count": 22,
   "id": "17445322",
   "metadata": {},
   "outputs": [
    {
     "data": {
      "text/plain": [
       "<bound method NDFrame.describe of     TradeID Commodity TradeType  Volume   Price Currency DeliveryStart  \\\n",
       "0         1     Power       BUY  193.52  191.13      GBP    2025-01-08   \n",
       "1         2       Gas       BUY  368.68  127.76      GBP    2025-01-29   \n",
       "2         3     Power      SELL   86.45   48.08      USD    2025-01-03   \n",
       "3         4       Gas       BUY   38.46  175.91      GBP    2025-01-23   \n",
       "4         5      Coal       BUY  304.55  147.45      EUR    2025-01-09   \n",
       "..      ...       ...       ...     ...     ...      ...           ...   \n",
       "95       96      Coal      SELL   55.62  181.50      EUR    2025-01-05   \n",
       "96       97     Power       BUY  451.20  133.96      EUR    2025-01-06   \n",
       "97       98      Coal       BUY  176.12   82.86      GBP    2025-01-30   \n",
       "98       99     Power      SELL  365.72  181.48      USD    2025-01-22   \n",
       "99      100       Oil      SELL  444.67  160.38      GBP    2025-01-29   \n",
       "\n",
       "   DeliveryEnd Periodicity  \n",
       "0   2025-01-16     Monthly  \n",
       "1   2025-02-16   Quarterly  \n",
       "2   2025-01-10       Daily  \n",
       "3   2025-02-13       Daily  \n",
       "4   2025-02-04   Quarterly  \n",
       "..         ...         ...  \n",
       "95  2025-01-26       Daily  \n",
       "96  2025-02-01       Daily  \n",
       "97  2025-02-27       Daily  \n",
       "98  2025-02-08     Monthly  \n",
       "99  2025-02-15   Quarterly  \n",
       "\n",
       "[100 rows x 9 columns]>"
      ]
     },
     "execution_count": 22,
     "metadata": {},
     "output_type": "execute_result"
    }
   ],
   "source": [
    "df_csv.describe"
   ]
  },
  {
   "cell_type": "code",
   "execution_count": 23,
   "id": "65fc0564",
   "metadata": {},
   "outputs": [
    {
     "data": {
      "text/plain": [
       "TradeID          0\n",
       "Commodity        0\n",
       "TradeType        0\n",
       "Volume           0\n",
       "Price            0\n",
       "Currency         0\n",
       "DeliveryStart    0\n",
       "DeliveryEnd      0\n",
       "Periodicity      0\n",
       "dtype: int64"
      ]
     },
     "execution_count": 23,
     "metadata": {},
     "output_type": "execute_result"
    }
   ],
   "source": [
    "df_csv.isnull().sum()"
   ]
  },
  {
   "cell_type": "markdown",
   "id": "a2853022",
   "metadata": {},
   "source": []
  },
  {
   "cell_type": "code",
   "execution_count": 25,
   "id": "aa40e00d",
   "metadata": {},
   "outputs": [
    {
     "data": {
      "text/plain": [
       "np.int64(0)"
      ]
     },
     "execution_count": 25,
     "metadata": {},
     "output_type": "execute_result"
    }
   ],
   "source": [
    "df_csv.duplicated().sum()"
   ]
  },
  {
   "cell_type": "code",
   "execution_count": 27,
   "id": "e90da567",
   "metadata": {},
   "outputs": [
    {
     "data": {
      "text/html": [
       "<div>\n",
       "<style scoped>\n",
       "    .dataframe tbody tr th:only-of-type {\n",
       "        vertical-align: middle;\n",
       "    }\n",
       "\n",
       "    .dataframe tbody tr th {\n",
       "        vertical-align: top;\n",
       "    }\n",
       "\n",
       "    .dataframe thead th {\n",
       "        text-align: right;\n",
       "    }\n",
       "</style>\n",
       "<table border=\"1\" class=\"dataframe\">\n",
       "  <thead>\n",
       "    <tr style=\"text-align: right;\">\n",
       "      <th></th>\n",
       "      <th>TradeID</th>\n",
       "      <th>Volume</th>\n",
       "      <th>Price</th>\n",
       "    </tr>\n",
       "  </thead>\n",
       "  <tbody>\n",
       "    <tr>\n",
       "      <th>0</th>\n",
       "      <td>1</td>\n",
       "      <td>193.52</td>\n",
       "      <td>191.13</td>\n",
       "    </tr>\n",
       "    <tr>\n",
       "      <th>1</th>\n",
       "      <td>2</td>\n",
       "      <td>368.68</td>\n",
       "      <td>127.76</td>\n",
       "    </tr>\n",
       "    <tr>\n",
       "      <th>2</th>\n",
       "      <td>3</td>\n",
       "      <td>86.45</td>\n",
       "      <td>48.08</td>\n",
       "    </tr>\n",
       "    <tr>\n",
       "      <th>3</th>\n",
       "      <td>4</td>\n",
       "      <td>38.46</td>\n",
       "      <td>175.91</td>\n",
       "    </tr>\n",
       "    <tr>\n",
       "      <th>4</th>\n",
       "      <td>5</td>\n",
       "      <td>304.55</td>\n",
       "      <td>147.45</td>\n",
       "    </tr>\n",
       "    <tr>\n",
       "      <th>...</th>\n",
       "      <td>...</td>\n",
       "      <td>...</td>\n",
       "      <td>...</td>\n",
       "    </tr>\n",
       "    <tr>\n",
       "      <th>95</th>\n",
       "      <td>96</td>\n",
       "      <td>55.62</td>\n",
       "      <td>181.50</td>\n",
       "    </tr>\n",
       "    <tr>\n",
       "      <th>96</th>\n",
       "      <td>97</td>\n",
       "      <td>451.20</td>\n",
       "      <td>133.96</td>\n",
       "    </tr>\n",
       "    <tr>\n",
       "      <th>97</th>\n",
       "      <td>98</td>\n",
       "      <td>176.12</td>\n",
       "      <td>82.86</td>\n",
       "    </tr>\n",
       "    <tr>\n",
       "      <th>98</th>\n",
       "      <td>99</td>\n",
       "      <td>365.72</td>\n",
       "      <td>181.48</td>\n",
       "    </tr>\n",
       "    <tr>\n",
       "      <th>99</th>\n",
       "      <td>100</td>\n",
       "      <td>444.67</td>\n",
       "      <td>160.38</td>\n",
       "    </tr>\n",
       "  </tbody>\n",
       "</table>\n",
       "<p>100 rows × 3 columns</p>\n",
       "</div>"
      ],
      "text/plain": [
       "    TradeID  Volume   Price\n",
       "0         1  193.52  191.13\n",
       "1         2  368.68  127.76\n",
       "2         3   86.45   48.08\n",
       "3         4   38.46  175.91\n",
       "4         5  304.55  147.45\n",
       "..      ...     ...     ...\n",
       "95       96   55.62  181.50\n",
       "96       97  451.20  133.96\n",
       "97       98  176.12   82.86\n",
       "98       99  365.72  181.48\n",
       "99      100  444.67  160.38\n",
       "\n",
       "[100 rows x 3 columns]"
      ]
     },
     "execution_count": 27,
     "metadata": {},
     "output_type": "execute_result"
    }
   ],
   "source": [
    "df_csv.select_dtypes(include='number')"
   ]
  },
  {
   "cell_type": "markdown",
   "id": "074f3ec2",
   "metadata": {},
   "source": [
    "#####  2a. Convert DeliveryStart and DeliveryEnd columns into datetime."
   ]
  },
  {
   "cell_type": "code",
   "execution_count": 31,
   "id": "93b012b4",
   "metadata": {},
   "outputs": [],
   "source": [
    "df_csv[\"DeliveryStart\"]=pd.to_datetime(df_csv[\"DeliveryStart\"],errors=\"coerce\")"
   ]
  },
  {
   "cell_type": "code",
   "execution_count": 32,
   "id": "8ec20a3f",
   "metadata": {},
   "outputs": [],
   "source": [
    "df_csv[\"DeliveryEnd\"]=pd.to_datetime(df_csv[\"DeliveryEnd\"],errors=\"coerce\")"
   ]
  },
  {
   "cell_type": "code",
   "execution_count": 33,
   "id": "1b5823fc",
   "metadata": {},
   "outputs": [
    {
     "data": {
      "text/plain": [
       "TradeID                   int64\n",
       "Commodity                object\n",
       "TradeType                object\n",
       "Volume                  float64\n",
       "Price                   float64\n",
       "Currency                 object\n",
       "DeliveryStart    datetime64[ns]\n",
       "DeliveryEnd      datetime64[ns]\n",
       "Periodicity              object\n",
       "dtype: object"
      ]
     },
     "execution_count": 33,
     "metadata": {},
     "output_type": "execute_result"
    }
   ],
   "source": [
    "df_csv.dtypes"
   ]
  },
  {
   "cell_type": "markdown",
   "id": "cf673765",
   "metadata": {},
   "source": [
    "#### Exploratory Data Analysis(EDA)"
   ]
  },
  {
   "cell_type": "code",
   "execution_count": null,
   "id": "f9351f11",
   "metadata": {},
   "outputs": [],
   "source": []
  },
  {
   "cell_type": "markdown",
   "id": "e6fc2d09",
   "metadata": {},
   "source": [
    "##### 3b.\tAverage price per commodity. "
   ]
  },
  {
   "cell_type": "code",
   "execution_count": 91,
   "id": "d0b095bf",
   "metadata": {},
   "outputs": [],
   "source": [
    "avg_price=df_csv.groupby([\"Commodity\",\"TradeType\"],as_index=False)[\"Price\"].mean()"
   ]
  },
  {
   "cell_type": "code",
   "execution_count": 92,
   "id": "5e53197b",
   "metadata": {},
   "outputs": [
    {
     "data": {
      "text/html": [
       "<div>\n",
       "<style scoped>\n",
       "    .dataframe tbody tr th:only-of-type {\n",
       "        vertical-align: middle;\n",
       "    }\n",
       "\n",
       "    .dataframe tbody tr th {\n",
       "        vertical-align: top;\n",
       "    }\n",
       "\n",
       "    .dataframe thead th {\n",
       "        text-align: right;\n",
       "    }\n",
       "</style>\n",
       "<table border=\"1\" class=\"dataframe\">\n",
       "  <thead>\n",
       "    <tr style=\"text-align: right;\">\n",
       "      <th></th>\n",
       "      <th>Commodity</th>\n",
       "      <th>TradeType</th>\n",
       "      <th>Price</th>\n",
       "    </tr>\n",
       "  </thead>\n",
       "  <tbody>\n",
       "    <tr>\n",
       "      <th>0</th>\n",
       "      <td>Coal</td>\n",
       "      <td>BUY</td>\n",
       "      <td>112.661111</td>\n",
       "    </tr>\n",
       "    <tr>\n",
       "      <th>1</th>\n",
       "      <td>Coal</td>\n",
       "      <td>SELL</td>\n",
       "      <td>95.622500</td>\n",
       "    </tr>\n",
       "    <tr>\n",
       "      <th>2</th>\n",
       "      <td>Gas</td>\n",
       "      <td>BUY</td>\n",
       "      <td>104.530000</td>\n",
       "    </tr>\n",
       "    <tr>\n",
       "      <th>3</th>\n",
       "      <td>Gas</td>\n",
       "      <td>SELL</td>\n",
       "      <td>130.211579</td>\n",
       "    </tr>\n",
       "    <tr>\n",
       "      <th>4</th>\n",
       "      <td>Oil</td>\n",
       "      <td>BUY</td>\n",
       "      <td>101.847273</td>\n",
       "    </tr>\n",
       "    <tr>\n",
       "      <th>5</th>\n",
       "      <td>Oil</td>\n",
       "      <td>SELL</td>\n",
       "      <td>101.675833</td>\n",
       "    </tr>\n",
       "    <tr>\n",
       "      <th>6</th>\n",
       "      <td>Power</td>\n",
       "      <td>BUY</td>\n",
       "      <td>109.491667</td>\n",
       "    </tr>\n",
       "    <tr>\n",
       "      <th>7</th>\n",
       "      <td>Power</td>\n",
       "      <td>SELL</td>\n",
       "      <td>93.703125</td>\n",
       "    </tr>\n",
       "  </tbody>\n",
       "</table>\n",
       "</div>"
      ],
      "text/plain": [
       "  Commodity TradeType       Price\n",
       "0      Coal       BUY  112.661111\n",
       "1      Coal      SELL   95.622500\n",
       "2       Gas       BUY  104.530000\n",
       "3       Gas      SELL  130.211579\n",
       "4       Oil       BUY  101.847273\n",
       "5       Oil      SELL  101.675833\n",
       "6     Power       BUY  109.491667\n",
       "7     Power      SELL   93.703125"
      ]
     },
     "execution_count": 92,
     "metadata": {},
     "output_type": "execute_result"
    }
   ],
   "source": [
    "avg_price"
   ]
  },
  {
   "cell_type": "markdown",
   "id": "6c00420d",
   "metadata": {},
   "source": [
    "#### 3c.\tDistribution of trades by currency."
   ]
  },
  {
   "cell_type": "code",
   "execution_count": 47,
   "id": "d409d0c7",
   "metadata": {},
   "outputs": [
    {
     "data": {
      "text/plain": [
       "Currency\n",
       "EUR    28\n",
       "USD    34\n",
       "GBP    38\n",
       "Name: count, dtype: int64"
      ]
     },
     "execution_count": 47,
     "metadata": {},
     "output_type": "execute_result"
    }
   ],
   "source": [
    "df_csv[\"Currency\"].value_counts(ascending=True)"
   ]
  },
  {
   "cell_type": "code",
   "execution_count": 46,
   "id": "5a9834b6",
   "metadata": {},
   "outputs": [
    {
     "data": {
      "text/plain": [
       "Currency\n",
       "EUR    28\n",
       "GBP    38\n",
       "USD    34\n",
       "Name: TradeID, dtype: int64"
      ]
     },
     "execution_count": 46,
     "metadata": {},
     "output_type": "execute_result"
    }
   ],
   "source": [
    "currency_dist = df_csv.groupby(\"Currency\")[\"TradeID\"].count()\n",
    "currency_dist\n"
   ]
  },
  {
   "cell_type": "markdown",
   "id": "e4692acc",
   "metadata": {},
   "source": [
    "#### 3d. Trade periodicity breakdown (Daily, Weekly, Monthly, etc.). "
   ]
  },
  {
   "cell_type": "code",
   "execution_count": 48,
   "id": "e38f4734",
   "metadata": {},
   "outputs": [
    {
     "data": {
      "text/plain": [
       "Periodicity\n",
       "Daily        41\n",
       "Quarterly    31\n",
       "Monthly      28\n",
       "Name: count, dtype: int64"
      ]
     },
     "execution_count": 48,
     "metadata": {},
     "output_type": "execute_result"
    }
   ],
   "source": [
    "df_csv['Periodicity'].value_counts()"
   ]
  },
  {
   "cell_type": "markdown",
   "id": "af9c5dbe",
   "metadata": {},
   "source": [
    "### Data Visualization"
   ]
  },
  {
   "cell_type": "markdown",
   "id": "77cf98eb",
   "metadata": {},
   "source": [
    "#### checking for outliers in the data"
   ]
  },
  {
   "cell_type": "code",
   "execution_count": 104,
   "id": "85f39350",
   "metadata": {},
   "outputs": [
    {
     "data": {
      "image/png": "[encoded data removed]",
      "text/plain": [
       "<Figure size 400x200 with 1 Axes>"
      ]
     },
     "metadata": {},
     "output_type": "display_data"
    },
    {
     "data": {
      "image/png": "[encoded data removed]",
      "text/plain": [
       "<Figure size 400x200 with 1 Axes>"
      ]
     },
     "metadata": {},
     "output_type": "display_data"
    },
    {
     "name": "stdout",
     "output_type": "stream",
     "text": [
      "count    100.000000\n",
      "mean     245.711400\n",
      "std      149.690126\n",
      "min       12.710000\n",
      "25%      125.357500\n",
      "50%      227.560000\n",
      "75%      384.027500\n",
      "max      492.970000\n",
      "Name: Volume, dtype: float64\n"
     ]
    },
    {
     "data": {
      "text/plain": [
       "count    100.000000\n",
       "mean     107.654200\n",
       "std       51.373408\n",
       "min       22.990000\n",
       "25%       60.572500\n",
       "50%      109.805000\n",
       "75%      152.415000\n",
       "max      197.640000\n",
       "Name: Price, dtype: float64"
      ]
     },
     "execution_count": 104,
     "metadata": {},
     "output_type": "execute_result"
    }
   ],
   "source": [
    "def outlier(df_csv):\n",
    "    data_outliers=[\"Volume\",\"Price\"]\n",
    "\n",
    "    for col in data_outliers:\n",
    "        if col in df_csv.columns: \n",
    "            plt.figure(figsize=(4,2))\n",
    "            df_csv.boxplot(column=col)\n",
    "            plt.title(f\"Boxplot of {col}\")\n",
    "            plt.ylabel(col)\n",
    "            plt.show()\n",
    "\n",
    "outlier(df_csv)\n",
    "\n",
    "print(df_csv['Volume'].describe())\n",
    "df_csv['Price'].describe()"
   ]
  },
  {
   "cell_type": "markdown",
   "id": "1c96f06d",
   "metadata": {},
   "source": [
    "#### a.\tBar chart: Volume of Commodity(Trader is not in the datasets)"
   ]
  },
  {
   "cell_type": "code",
   "execution_count": 94,
   "id": "b2188fc0",
   "metadata": {},
   "outputs": [
    {
     "data": {
      "image/png": "[encoded data removed]",
      "text/plain": [
       "<Figure size 800x500 with 1 Axes>"
      ]
     },
     "metadata": {},
     "output_type": "display_data"
    }
   ],
   "source": [
    "volume = df_csv.groupby([\"Commodity\"])[\"Volume\"].sum().reset_index()\n",
    "plt.figure(figsize=(8,5))\n",
    "plt.bar(volume[\"Commodity\"], volume[\"Volume\"])\n",
    "\n",
    "plt.title(\"Total Commodity Trade Volume \")\n",
    "plt.xlabel(\"Commodity\")\n",
    "plt.ylabel(\"Total Volume\")\n",
    "plt.xticks(rotation=45) \n",
    "plt.show()"
   ]
  },
  {
   "cell_type": "markdown",
   "id": "dca14776",
   "metadata": {},
   "source": [
    "#### b.\tPie chart: Trades by currency.  "
   ]
  },
  {
   "cell_type": "code",
   "execution_count": 61,
   "id": "1348232b",
   "metadata": {},
   "outputs": [
    {
     "data": {
      "image/png": "[encoded data removed]",
      "text/plain": [
       "<Figure size 700x600 with 1 Axes>"
      ]
     },
     "metadata": {},
     "output_type": "display_data"
    }
   ],
   "source": [
    "total_currency= df_csv[\"Currency\"].value_counts()\n",
    "colors = [\"#ff9999\", \"#66b3ff\", \"#99ff99\", \"#ffcc99\"]\n",
    "plt.figure(figsize=(7, 6))\n",
    "total_currency.plot(kind=\"pie\", autopct=\"%1.1f%%\",colors=colors)\n",
    "plt.title(\"Trades as per Currency\")\n",
    "plt.ylabel(\"\")  \n",
    "plt.show()\n"
   ]
  },
  {
   "cell_type": "markdown",
   "id": "fa8b10dd",
   "metadata": {},
   "source": [
    "#### c.\tLine chart: Average price trend by delivery start date.  "
   ]
  },
  {
   "cell_type": "code",
   "execution_count": 65,
   "id": "4ed2568b",
   "metadata": {},
   "outputs": [
    {
     "data": {
      "image/png": "[encoded data removed]",
      "text/plain": [
       "<Figure size 1200x600 with 1 Axes>"
      ]
     },
     "metadata": {},
     "output_type": "display_data"
    }
   ],
   "source": [
    "\n",
    "avg_price = df_csv.groupby(\"DeliveryStart\")[\"Price\"].mean()\n",
    "\n",
    "plt.figure(figsize=(12, 6))\n",
    "plt.plot(avg_price.index, avg_price.values, marker=\"o\")\n",
    "plt.title(\"Average Price Trend by Delivery Start Date\")\n",
    "plt.xlabel(\"Delivery Start Date\")\n",
    "plt.ylabel(\"Average Price\")\n",
    "\n",
    "plt.show()"
   ]
  },
  {
   "cell_type": "markdown",
   "id": "e46c9a12",
   "metadata": {},
   "source": [
    "#### d.\tHistogram: Distribution of notional values.  "
   ]
  },
  {
   "cell_type": "code",
   "execution_count": 66,
   "id": "5b9be4d7",
   "metadata": {},
   "outputs": [],
   "source": [
    "df_csv[\"Notional\"] = df_csv[\"Volume\"] * df_csv[\"Price\"]\n"
   ]
  },
  {
   "cell_type": "code",
   "execution_count": 74,
   "id": "e083c529",
   "metadata": {},
   "outputs": [
    {
     "data": {
      "image/png": "[encoded data removed]",
      "text/plain": [
       "<Figure size 1000x600 with 1 Axes>"
      ]
     },
     "metadata": {},
     "output_type": "display_data"
    }
   ],
   "source": [
    "plt.figure(figsize=(10,6))\n",
    "plt.hist(df_csv[\"Notional\"], bins=30, edgecolor=\"black\", color=\"lightgreen\")\n",
    "plt.title(\"Distribution of Notional Values\")\n",
    "plt.xlabel(\"Notional Frequency\")\n",
    "plt.ylabel(\"Frequency\")\n",
    "plt.show()"
   ]
  },
  {
   "cell_type": "markdown",
   "id": "db46749f",
   "metadata": {},
   "source": [
    "#### e.Commodity VS Trade Type "
   ]
  },
  {
   "cell_type": "code",
   "execution_count": 86,
   "id": "1a82bba5",
   "metadata": {},
   "outputs": [
    {
     "data": {
      "image/png": "[encoded data removed]",
      "text/plain": [
       "<Figure size 1000x600 with 2 Axes>"
      ]
     },
     "metadata": {},
     "output_type": "display_data"
    }
   ],
   "source": [
    "pivot_table = pd.crosstab(df_csv['Commodity'], df_csv['TradeType'])   \n",
    "plt.figure(figsize=(10,6))\n",
    "sns.heatmap(pivot_table, annot=True, fmt=\"d\", cmap=\"Blues\") \n",
    "plt.title(\"Heatmap of Commodity vs. Trade Types Counts\")\n",
    "plt.xlabel(\"Trade Type\")\n",
    "plt.ylabel(\"Commodity\")\n",
    "plt.show()"
   ]
  },
  {
   "cell_type": "code",
   "execution_count": null,
   "id": "28773c6e",
   "metadata": {},
   "outputs": [],
   "source": []
  }
 ],
 "metadata": {
  "kernelspec": {
   "display_name": "venv",
   "language": "python",
   "name": "python3"
  },
  "language_info": {
   "codemirror_mode": {
    "name": "ipython",
    "version": 3
   },
   "file_extension": ".py",
   "mimetype": "text/x-python",
   "name": "python",
   "nbconvert_exporter": "python",
   "pygments_lexer": "ipython3",
   "version": "3.13.3"
  }
 },
 "nbformat": 4,
 "nbformat_minor": 5
}
